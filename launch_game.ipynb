{
 "cells": [
  {
   "cell_type": "code",
   "execution_count": 8,
   "metadata": {},
   "outputs": [],
   "source": [
    "import PySimpleGUIWeb as sg\n",
    "from random import randint\n",
    "from IPython.display import display\n",
    "import ipywidgets as widgets\n",
    "from utils import Board\n"
   ]
  },
  {
   "cell_type": "code",
   "execution_count": 6,
   "metadata": {},
   "outputs": [
    {
     "data": {
      "text/plain": [
       "'/home/garrettlander/p3_demo'"
      ]
     },
     "execution_count": 6,
     "metadata": {},
     "output_type": "execute_result"
    }
   ],
   "source": [
    "pwd"
   ]
  },
  {
   "cell_type": "code",
   "execution_count": 2,
   "metadata": {
    "scrolled": false
   },
   "outputs": [
    {
     "data": {
      "application/vnd.jupyter.widget-view+json": {
       "model_id": "befc7e1eca604eb1ab08550b78aa2244",
       "version_major": 2,
       "version_minor": 0
      },
      "text/plain": [
       "IntSlider(value=10, description='Width', min=10)"
      ]
     },
     "metadata": {},
     "output_type": "display_data"
    },
    {
     "data": {
      "application/vnd.jupyter.widget-view+json": {
       "model_id": "1c7ad6eccbbf4a71be8b3f788a07acb8",
       "version_major": 2,
       "version_minor": 0
      },
      "text/plain": [
       "IntSlider(value=10, description='Height', min=10)"
      ]
     },
     "metadata": {},
     "output_type": "display_data"
    }
   ],
   "source": [
    "width = widgets.IntSlider(min = 10, max = 100, description = 'Width')\n",
    "height = widgets.IntSlider(min = 10, max = 100, description = 'Height')\n",
    "display(width, height)"
   ]
  },
  {
   "cell_type": "code",
   "execution_count": 3,
   "metadata": {},
   "outputs": [
    {
     "name": "stdout",
     "output_type": "stream",
     "text": [
      "app closing\n",
      "server stopped\n",
      "Returned from Remi Start command... now sending None event\n"
     ]
    }
   ],
   "source": [
    "# board = [[randint(0,1) for j in range(width.value)] for i in range(height.value)]\n",
    "\n",
    "board = Board(width.value, height.value)\n",
    "\n",
    "layout =  [[sg.Button('?', size=(4, 2), key=(i,j), pad=(0,0)) for j in range(width.value)] for i in range(height.value)]\n",
    "\n",
    "window = sg.Window('Minesweeper', layout)\n",
    "\n",
    "while True:\n",
    "    event, values = window.read()\n",
    "    if event in (None, 'Exit'):\n",
    "        break\n",
    "    # window[(row, col)].update('New text')   # To change a button's text, use this pattern\n",
    "    # For this example, change the text of the button to the board's value and turn color black\n",
    "    window[event].update(board[event[0]][event[1]], button_color=('white','black'))\n",
    "window.close()"
   ]
  },
  {
   "cell_type": "code",
   "execution_count": null,
   "metadata": {},
   "outputs": [],
   "source": []
  }
 ],
 "metadata": {
  "kernelspec": {
   "display_name": "Python 3",
   "language": "python",
   "name": "python3"
  },
  "language_info": {
   "codemirror_mode": {
    "name": "ipython",
    "version": 3
   },
   "file_extension": ".py",
   "mimetype": "text/x-python",
   "name": "python",
   "nbconvert_exporter": "python",
   "pygments_lexer": "ipython3",
   "version": "3.7.4"
  }
 },
 "nbformat": 4,
 "nbformat_minor": 2
}
