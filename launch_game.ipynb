{
 "cells": [
  {
   "cell_type": "code",
   "execution_count": 4,
   "metadata": {},
   "outputs": [],
   "source": [
    "import PySimpleGUIWeb as sg\n",
    "from random import randint\n",
    "import numpy as np\n",
    "from time import sleep\n",
    "from IPython.display import display\n",
    "import ipywidgets as widgets\n",
    "from utils import Board"
   ]
  },
  {
   "cell_type": "code",
   "execution_count": 5,
   "metadata": {
    "scrolled": false
   },
   "outputs": [
    {
     "data": {
      "application/vnd.jupyter.widget-view+json": {
       "model_id": "1da1054e71e149e981529967807bc66b",
       "version_major": 2,
       "version_minor": 0
      },
      "text/plain": [
       "IntSlider(value=10, description='Width', max=50, min=10)"
      ]
     },
     "metadata": {},
     "output_type": "display_data"
    },
    {
     "data": {
      "application/vnd.jupyter.widget-view+json": {
       "model_id": "ccc4ed50d269441aa1b9753b585214d6",
       "version_major": 2,
       "version_minor": 0
      },
      "text/plain": [
       "IntSlider(value=10, description='Height', max=50, min=10)"
      ]
     },
     "metadata": {},
     "output_type": "display_data"
    }
   ],
   "source": [
    "width = widgets.IntSlider(min = 10, max = 50, description = 'Width')\n",
    "height = widgets.IntSlider(min = 10, max = 50, description = 'Height')\n",
    "display(width, height)"
   ]
  },
  {
   "cell_type": "code",
   "execution_count": 3,
   "metadata": {},
   "outputs": [
    {
     "name": "stdout",
     "output_type": "stream",
     "text": [
      "app closing\n",
      "server stopped\n",
      "Returned from Remi Start command... now sending None event\n"
     ]
    }
   ],
   "source": [
    "# layout code from PySimpleGUI cookbook found at:\n",
    "# https://pysimplegui.readthedocs.io/en/latest/cookbook/#minesweeper-style-grid-of-buttons\n",
    "\n",
    "board = [[randint(0,1) for j in range(width.value)] for i in range(height.value)]\n",
    "layout =  [[sg.Button('?', size=(4, 2), key=(i,j), pad=(0,0)) for j \n",
    "            in range(width.value)] for i in range(height.value)]\n",
    "window = sg.Window('Minesweeper', layout)\n",
    "\n",
    "while True:\n",
    "    event, values = window.read()\n",
    "    if event in (None, 'Exit'):\n",
    "        break\n",
    "    # window[(row, col)].update('New text')   # To change a button's text, use this pattern\n",
    "    # For this example, change the text of the button to the board's value and turn color black\n",
    "    window[event].update(board[event[0]][event[1]], button_color=('white','black'))\n",
    "window.close()"
   ]
  },
  {
   "cell_type": "code",
   "execution_count": null,
   "metadata": {
    "scrolled": false
   },
   "outputs": [
    {
     "name": "stdout",
     "output_type": "stream",
     "text": [
      "app closing\n",
      "server stopped\n",
      "Returned from Remi Start command... now sending None event\n"
     ]
    }
   ],
   "source": [
    "while True:\n",
    "    h = height.value\n",
    "    w = width.value\n",
    "    board = Board(w, h)\n",
    "    game_lost = False\n",
    "    previous_display = board.display.copy()\n",
    "    exited = False\n",
    "    mines = board.num_mines\n",
    "    mode_on = ('black','green')\n",
    "    mode_off = ('black','red')\n",
    "    clear_mode = True\n",
    "\n",
    "    button_grid = [[sg.Button('?', size=(4, 2), key=(i,j),\n",
    "                             pad=(0,0)) for j in range(w)] for i in range(h)]\n",
    "    mode_toggle = [[sg.Text(\"Click Mode: \"),\n",
    "                  sg.Button('Mine', button_color = mode_off, key = 'mine_mode', pad = (0,0)),\n",
    "                  sg.Button('Clear', button_color = mode_on, key = 'clear_mode', pad = (0,0))]]\n",
    "    top_row =  [sg.Text(\"Mines Remaining:\"), sg.Text(f\"{mines}\", pad = (50, 0),\n",
    "                                                     text_color = 'red',\n",
    "                                                     background_color='686463',\n",
    "                                                    key = 'remaining'),\n",
    "               sg.Column(mode_toggle)]\n",
    "    layout = [top_row, *button_grid]\n",
    "    window = sg.Window('Minesweeper', layout)\n",
    "\n",
    "    while True:\n",
    "        event, values = window.read()\n",
    "        if event in (None, 'Exit'):\n",
    "            exited = True\n",
    "            break\n",
    "\n",
    "        if event in ('mine_mode', 'clear_mode'):\n",
    "            clear_mode = event == 'clear_mode'\n",
    "            window.FindElement('mine_mode').update(button_color = mode_off if clear_mode else mode_on)\n",
    "            window.FindElement('clear_mode').update(button_color = mode_on if clear_mode else mode_off)        \n",
    "            continue\n",
    "\n",
    "        row, col = event[:2]\n",
    "        \n",
    "        if previous_display[row, col]:\n",
    "            continue\n",
    "\n",
    "        if not board.update_square(not clear_mode, row, col):\n",
    "            game_lost = True\n",
    "            display_diff = np.argwhere(board.display == board.display)\n",
    "        else:\n",
    "            mines -= not clear_mode\n",
    "            if mines == 0:\n",
    "                break\n",
    "            display_diff = np.argwhere(previous_display != board.display)\n",
    "            previous_display = board.display.copy()\n",
    "            window.FindElement('remaining').update(mines)\n",
    "\n",
    "        for x, y in display_diff:\n",
    "            cell_val = board.board[x, y]\n",
    "\n",
    "            if cell_val == -1:\n",
    "                cell_val = '*'\n",
    "                color_update = ('black','grey')\n",
    "            elif cell_val == 0:\n",
    "                cell_val = ' '\n",
    "                color_update = ('white','black')\n",
    "            else:\n",
    "                color_update = ('white','black')\n",
    "\n",
    "            window.FindElement((x, y)).update(cell_val, button_color=color_update)\n",
    "\n",
    "        if game_lost:\n",
    "            sleep(3)\n",
    "            break\n",
    "\n",
    "    if exited:\n",
    "        break\n",
    "            \n",
    "    result = 'NURTZ!' if game_lost else 'HUZZAH!'\n",
    "    if sg.PopupYesNo(result + '\\nPlay again?') == 'No':\n",
    "        break\n",
    "window.close()"
   ]
  }
 ],
 "metadata": {
  "kernelspec": {
   "display_name": "Python 3",
   "language": "python",
   "name": "python3"
  },
  "language_info": {
   "codemirror_mode": {
    "name": "ipython",
    "version": 3
   },
   "file_extension": ".py",
   "mimetype": "text/x-python",
   "name": "python",
   "nbconvert_exporter": "python",
   "pygments_lexer": "ipython3",
   "version": "3.7.4"
  }
 },
 "nbformat": 4,
 "nbformat_minor": 2
}
