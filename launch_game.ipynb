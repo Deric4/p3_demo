{
 "cells": [
  {
   "cell_type": "code",
   "execution_count": 1,
   "metadata": {},
   "outputs": [],
   "source": [
    "import PySimpleGUIWeb as sg\n",
    "from random import randint\n",
    "from IPython.display import display\n",
    "import ipywidgets as widgets\n",
    "from utils import Board\n"
   ]
  },
  {
   "cell_type": "code",
   "execution_count": 2,
   "metadata": {
    "scrolled": false
   },
   "outputs": [
    {
     "data": {
      "application/vnd.jupyter.widget-view+json": {
       "model_id": "b4b966d93c7d435fa84e140893ef26af",
       "version_major": 2,
       "version_minor": 0
      },
      "text/plain": [
       "IntSlider(value=10, description='Width', max=50, min=10)"
      ]
     },
     "metadata": {},
     "output_type": "display_data"
    },
    {
     "data": {
      "application/vnd.jupyter.widget-view+json": {
       "model_id": "87768e7d9875451dbcc29179b8401656",
       "version_major": 2,
       "version_minor": 0
      },
      "text/plain": [
       "IntSlider(value=10, description='Height', max=50, min=10)"
      ]
     },
     "metadata": {},
     "output_type": "display_data"
    }
   ],
   "source": [
    "width = widgets.IntSlider(min = 10, max = 50, description = 'Width')\n",
    "height = widgets.IntSlider(min = 10, max = 50, description = 'Height')\n",
    "display(width, height)"
   ]
  },
  {
   "cell_type": "code",
   "execution_count": 3,
   "metadata": {},
   "outputs": [
    {
     "name": "stdout",
     "output_type": "stream",
     "text": [
      "app closing\n",
      "server stopped\n",
      "Returned from Remi Start command... now sending None event\n"
     ]
    }
   ],
   "source": [
    "# layout code from PySimpleGUI cookbook found at:\n",
    "# https://pysimplegui.readthedocs.io/en/latest/cookbook/#minesweeper-style-grid-of-buttons\n",
    "\n",
    "board = [[randint(0,1) for j in range(width.value)] for i in range(height.value)]\n",
    "layout =  [[sg.Button('?', size=(4, 2), key=(i,j), pad=(0,0)) for j \n",
    "            in range(width.value)] for i in range(height.value)]\n",
    "window = sg.Window('Minesweeper', layout)\n",
    "\n",
    "while True:\n",
    "    event, values = window.read()\n",
    "    if event in (None, 'Exit'):\n",
    "        break\n",
    "    # window[(row, col)].update('New text')   # To change a button's text, use this pattern\n",
    "    # For this example, change the text of the button to the board's value and turn color black\n",
    "    window[event].update(board[event[0]][event[1]], button_color=('white','black'))\n",
    "window.close()"
   ]
  },
  {
   "cell_type": "code",
   "execution_count": null,
   "metadata": {},
   "outputs": [],
   "source": []
  },
  {
   "cell_type": "code",
   "execution_count": 4,
   "metadata": {},
   "outputs": [],
   "source": [
    "board = Board(width.value, height.value)"
   ]
  },
  {
   "cell_type": "code",
   "execution_count": 3,
   "metadata": {},
   "outputs": [
    {
     "name": "stdout",
     "output_type": "stream",
     "text": [
      "app closing\n",
      "server stopped\n",
      "Returned from Remi Start command... now sending None event\n"
     ]
    }
   ],
   "source": [
    "board = Board(width.value, height.value)\n",
    "\n",
    "button_grid = [[sg.Button('?', size=(4, 2), key=(i,j),\n",
    "                         pad=(0,0)) for j in range(width.value)] for i in range(height.value)]\n",
    "top_row =  [sg.Text(\"Total Mines:\"), sg.Text(f\"{board.num_mines}\",background_color='gray'),\n",
    "            sg.Text(\"Mines Remaining:\"), sg.Text(f\"{board.num_mines}\",\n",
    "                                                 background_color='686463',\n",
    "                                                key = 'remaining')]\n",
    "layout = [top_row, *button_grid]\n",
    "window = sg.Window('Minesweeper', layout)\n",
    "\n",
    "while True:\n",
    "    event, values = window.read()\n",
    "    if event in (None, 'Exit'):\n",
    "        break\n",
    "        \n",
    "    row, col = event[:2]\n",
    "    cell_val = board.board[row, col]\n",
    "    # window[(row, col)].update('New text')   # To change a button's text, use this pattern\n",
    "    # For this example, change the text of the button to the board's value and turn color black\n",
    "    window.FindElement((row, col)).update(cell_val, button_color=('white','black'))\n",
    "#     window[event].update(board.board[row, col], button_color=('white','black'))\n",
    "window.close()"
   ]
  },
  {
   "cell_type": "code",
   "execution_count": 4,
   "metadata": {},
   "outputs": [
    {
     "data": {
      "text/plain": [
       "array([[ 0,  1,  2, -1,  2,  2, -1,  1,  0,  0],\n",
       "       [ 0,  1, -1,  3,  3, -1,  2,  1,  0,  0],\n",
       "       [ 0,  1,  1,  2, -1,  2,  1,  0,  0,  0],\n",
       "       [ 0,  0,  0,  1,  1,  1,  1,  1,  1,  0],\n",
       "       [ 0,  0,  1,  1,  1,  0,  1, -1,  1,  0],\n",
       "       [ 0,  0,  1, -1,  1,  0,  1,  1,  1,  0],\n",
       "       [ 0,  0,  2,  2,  2,  0,  0,  0,  0,  0],\n",
       "       [ 0,  0,  1, -1,  2,  1,  0,  0,  0,  0],\n",
       "       [ 0,  0,  1,  2, -1,  1,  0,  1,  1,  1],\n",
       "       [ 0,  0,  0,  1,  1,  1,  0,  1, -1,  1]], dtype=int16)"
      ]
     },
     "execution_count": 4,
     "metadata": {},
     "output_type": "execute_result"
    }
   ],
   "source": [
    "board.board"
   ]
  }
 ],
 "metadata": {
  "kernelspec": {
   "display_name": "Python 3",
   "language": "python",
   "name": "python3"
  },
  "language_info": {
   "codemirror_mode": {
    "name": "ipython",
    "version": 3
   },
   "file_extension": ".py",
   "mimetype": "text/x-python",
   "name": "python",
   "nbconvert_exporter": "python",
   "pygments_lexer": "ipython3",
   "version": "3.6.8"
  }
 },
 "nbformat": 4,
 "nbformat_minor": 2
}
