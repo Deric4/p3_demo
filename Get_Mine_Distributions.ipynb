{
  "nbformat": 4,
  "nbformat_minor": 0,
  "metadata": {
    "colab": {
      "name": "Get_Mine_Distributions.ipynb",
      "provenance": [],
      "collapsed_sections": []
    },
    "kernelspec": {
      "name": "python3",
      "display_name": "Python 3"
    }
  },
  "cells": [
    {
      "cell_type": "code",
      "metadata": {
        "id": "eWrpwp-g1jJT",
        "colab_type": "code",
        "colab": {}
      },
      "source": [
        "from itertools import product\n",
        "from collections import defaultdict\n",
        "import matplotlib.pyplot as plt\n",
        "from utils import Board"
      ],
      "execution_count": 0,
      "outputs": []
    },
    {
      "cell_type": "code",
      "metadata": {
        "id": "g3cTukPV2ZN9",
        "colab_type": "code",
        "colab": {}
      },
      "source": [
        "MIN_X = 10\n",
        "MAX_X = 30\n",
        "MIN_Y = 10\n",
        "MAX_Y = 30\n",
        "NUM_BOARDS = 100"
      ],
      "execution_count": 0,
      "outputs": []
    },
    {
      "cell_type": "markdown",
      "metadata": {
        "id": "ZINEf1xg8XGk",
        "colab_type": "text"
      },
      "source": [
        "### Instantiate a bunch of boards"
      ]
    },
    {
      "cell_type": "code",
      "metadata": {
        "id": "EVzQ-wS41tsl",
        "colab_type": "code",
        "colab": {}
      },
      "source": [
        "mine_counts = defaultdict(int)\n",
        "for i in range(MIN_X, MAX_X + 1):\n",
        "    for j in range(MIN_Y, MAX_Y + 1):\n",
        "        for _ in range(NUM_BOARDS):\n",
        "            board = Board(i, j)\n",
        "            squares = product(range(i), range(j))\n",
        "            for square in squares:\n",
        "                mine_counts[board.get_num_mines(*square)] += 1"
      ],
      "execution_count": 0,
      "outputs": []
    },
    {
      "cell_type": "markdown",
      "metadata": {
        "id": "jgirxI9e8bKc",
        "colab_type": "text"
      },
      "source": [
        "### Visualize results"
      ]
    },
    {
      "cell_type": "code",
      "metadata": {
        "id": "KfwTlmT-4OVe",
        "colab_type": "code",
        "colab": {
          "base_uri": "https://localhost:8080/",
          "height": 554
        },
        "outputId": "52fa11cb-c0be-4a0d-d69a-f81b6b2816eb"
      },
      "source": [
        "x = [i for i in range(1,9)]\n",
        "y = [mine_counts[i] for i in x]\n",
        "total_counts = sum(y)\n",
        "pcts = [(100*j)/total_counts for j in y]\n",
        "fig, (ax1, ax2) = plt.subplots(2, 1, sharex = True)\n",
        "fig.set_figheight(8)\n",
        "ax1.bar(x = x, height = pcts)\n",
        "ax2.bar(x = x, height = pcts)\n",
        "plt.suptitle('Mine Count Percentages')\n",
        "ax2.set_xlabel('Number of adjacent mines')\n",
        "ax1.set_ylabel('% of Observations')\n",
        "ax2.set_ylabel('% of Observations (log-scale)')\n",
        "ax2.set_yscale('log')\n",
        "plt.show()"
      ],
      "execution_count": 34,
      "outputs": [
        {
          "output_type": "display_data",
          "data": {
            "image/png": "[encoded data removed]",
            "text/plain": [
              "<Figure size 432x576 with 2 Axes>"
            ]
          },
          "metadata": {
            "tags": []
          }
        }
      ]
    },
    {
      "cell_type": "markdown",
      "metadata": {
        "id": "YRevWryT723j",
        "colab_type": "text"
      },
      "source": [
        "### Sampling values for trainer"
      ]
    },
    {
      "cell_type": "code",
      "metadata": {
        "id": "xctZbGOu6Kvg",
        "colab_type": "code",
        "colab": {
          "base_uri": "https://localhost:8080/",
          "height": 161
        },
        "outputId": "b499ab38-2176-4bdf-c3c2-4e7ffde30403"
      },
      "source": [
        "for i, p in enumerate(pcts):\n",
        "    print(f\"{i+1}: {p/100:.5f}\")"
      ],
      "execution_count": 33,
      "outputs": [
        {
          "output_type": "stream",
          "text": [
            "1: 0.69892\n",
            "2: 0.24486\n",
            "3: 0.04948\n",
            "4: 0.00621\n",
            "5: 0.00050\n",
            "6: 0.00003\n",
            "7: 0.00000\n",
            "8: 0.00000\n"
          ],
          "name": "stdout"
        }
      ]
    }
  ]
}